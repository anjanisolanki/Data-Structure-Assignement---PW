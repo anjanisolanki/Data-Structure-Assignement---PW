{
  "nbformat": 4,
  "nbformat_minor": 0,
  "metadata": {
    "colab": {
      "provenance": [],
      "authorship_tag": "ABX9TyNRKPA+19BTNz5FVopDWjfl",
      "include_colab_link": true
    },
    "kernelspec": {
      "name": "python3",
      "display_name": "Python 3"
    },
    "language_info": {
      "name": "python"
    }
  },
  "cells": [
    {
      "cell_type": "markdown",
      "metadata": {
        "id": "view-in-github",
        "colab_type": "text"
      },
      "source": [
        "<a href=\"https://colab.research.google.com/github/anjanisolanki/Data-Structure-Assignement---PW/blob/main/Data_Structure.ipynb\" target=\"_parent\"><img src=\"https://colab.research.google.com/assets/colab-badge.svg\" alt=\"Open In Colab\"/></a>"
      ]
    },
    {
      "cell_type": "markdown",
      "source": [
        "# **Data Types and Structures Questions**"
      ],
      "metadata": {
        "id": "rIrfRWCOJAMi"
      }
    },
    {
      "cell_type": "code",
      "source": [
        "# 1. What are data structures, and why are they important?\n",
        "\n",
        "# Data structures are ways to organize and store data so that we can use it easily and efficiently.\n",
        "# example - list, dict, set, tuple, Stack, Queue, Tree, Graph"
      ],
      "metadata": {
        "id": "Pw2miPpQPKy8"
      },
      "execution_count": 67,
      "outputs": []
    },
    {
      "cell_type": "code",
      "source": [
        "# 2. Explain the difference between mutable and immutable data types with examples?\n",
        "\n",
        "# Mutable = Can be changed after creation\n",
        "# ex - list, dict, set\n",
        "my_list = [1,2,3]\n",
        "my_list[0] = 5 # Changed the first item\n",
        "print(my_list)\n",
        "\n",
        "\n",
        "# Immutable = Cannot be changed after creation\n",
        "# example - str, int, tuple, float\n",
        "my_str = \"Anjani\"\n",
        "my_str[0] = \"S\" # This will give an error\n",
        "print(my_str)"
      ],
      "metadata": {
        "colab": {
          "base_uri": "https://localhost:8080/",
          "height": 211
        },
        "id": "Bp_PkeM-bAf3",
        "outputId": "20daa26b-4d8c-4a07-93b6-1c6575bfe395"
      },
      "execution_count": 68,
      "outputs": [
        {
          "output_type": "stream",
          "name": "stdout",
          "text": [
            "[5, 2, 3]\n"
          ]
        },
        {
          "output_type": "error",
          "ename": "TypeError",
          "evalue": "'str' object does not support item assignment",
          "traceback": [
            "\u001b[0;31m---------------------------------------------------------------------------\u001b[0m",
            "\u001b[0;31mTypeError\u001b[0m                                 Traceback (most recent call last)",
            "\u001b[0;32m/tmp/ipython-input-68-2197008820.py\u001b[0m in \u001b[0;36m<cell line: 0>\u001b[0;34m()\u001b[0m\n\u001b[1;32m     11\u001b[0m \u001b[0;31m# example - str, int, tuple, float\u001b[0m\u001b[0;34m\u001b[0m\u001b[0;34m\u001b[0m\u001b[0m\n\u001b[1;32m     12\u001b[0m \u001b[0mmy_str\u001b[0m \u001b[0;34m=\u001b[0m \u001b[0;34m\"Anjani\"\u001b[0m\u001b[0;34m\u001b[0m\u001b[0;34m\u001b[0m\u001b[0m\n\u001b[0;32m---> 13\u001b[0;31m \u001b[0mmy_str\u001b[0m\u001b[0;34m[\u001b[0m\u001b[0;36m0\u001b[0m\u001b[0;34m]\u001b[0m \u001b[0;34m=\u001b[0m \u001b[0;34m\"S\"\u001b[0m \u001b[0;31m# This will give an error\u001b[0m\u001b[0;34m\u001b[0m\u001b[0;34m\u001b[0m\u001b[0m\n\u001b[0m\u001b[1;32m     14\u001b[0m \u001b[0mprint\u001b[0m\u001b[0;34m(\u001b[0m\u001b[0mmy_str\u001b[0m\u001b[0;34m)\u001b[0m\u001b[0;34m\u001b[0m\u001b[0;34m\u001b[0m\u001b[0m\n",
            "\u001b[0;31mTypeError\u001b[0m: 'str' object does not support item assignment"
          ]
        }
      ]
    },
    {
      "cell_type": "code",
      "source": [
        "# 3. What are the main differences between lists and tuples in Python?\n",
        "\n",
        "#  List vs Tuple in Python\n",
        "\n",
        "# List: We can change the elements(mutable).\n",
        "my_list = [1, 2, 3]\n",
        "my_list[0] = 100  # We can change it\n",
        "print(my_list)\n",
        "\n",
        "# Tuple: We cannot change the elements (immutable).\n",
        "\n",
        "my_tuple = (1, 2, 3)\n",
        "my_tuple[0] = 100  # Error – We cannot change it\n",
        "print(my_tuple)\n",
        "\n",
        "\n",
        "# List: Uses square brackets [ ]\n",
        "# Tuple: Uses round brackets ( )"
      ],
      "metadata": {
        "id": "Vd4HnBccvzYi"
      },
      "execution_count": null,
      "outputs": []
    },
    {
      "cell_type": "code",
      "source": [
        "# 4. Describe how dictionaries store data\n",
        "\n",
        "# A dictionary in Python stores data in Key : Value pairs\n",
        "# Key = Name\n",
        "# Value = Data\n",
        "\n",
        "# example -\n",
        "my_dict1 = {\"key\" : \"value\"}\n",
        "my_dict2 = {\"name\" : \"Anjani\"}"
      ],
      "metadata": {
        "id": "763dAUQ_U8oO"
      },
      "execution_count": null,
      "outputs": []
    },
    {
      "cell_type": "code",
      "source": [
        "# 5. Why might We use a set instead of a list in Python ?\n",
        "\n",
        "# 1. To remove duplicates automatically\n",
        "# A set stores only unique values.\n",
        "# If We add the same item twice, it will keep only one.\n",
        "my_list = [1,4,3,2,2,4]\n",
        "my_set = set(my_list)\n",
        "print(my_set)\n",
        "\n",
        "\n",
        "# 2. Faster checking\n",
        "# Sets are faster than lists when We want to check if an item exists.\n",
        "my_list = [1, 2, 3, 4]\n",
        "my_set = {1, 2, 3, 4}\n",
        "\n",
        "print(3 in my_list)  # Slower\n",
        "print(3 in my_set)   # Faster\n",
        "\n",
        "\n",
        "# 3. Set operations\n",
        "#Sets support math-like operations like:\n",
        "\n",
        "# Union (|) → Combine sets\n",
        "# Intersection (&) → Common elements\n",
        "# Difference (-) → Remove matching items\n",
        "a = {1,2,3,4}\n",
        "b = {2,7,8,9}\n",
        "print(a&b)\n",
        "print(a|b)\n",
        "print(a-b)\n"
      ],
      "metadata": {
        "id": "tetEXdeBWhza"
      },
      "execution_count": null,
      "outputs": []
    },
    {
      "cell_type": "code",
      "source": [
        "# 6. What is a string in Python, and how is it different from a list?\n",
        "\n",
        "# A string is a sequence of characters (letters, numbers, symbols, spaces).\n",
        "# A string is always in quotes: \" \" or ' ' and  A list is written using square brackets [ ]\n",
        "\n",
        "# example\n",
        "name = \"Anjani\" # str\n",
        "names = [\"Anjani\", \"Siddharth\"] # list\n",
        "\n",
        "# Use string for text (name, message, sentence).\n",
        "# Use list for a group of items (names, numbers, mixed data)."
      ],
      "metadata": {
        "id": "NiwjPfC-aWX1"
      },
      "execution_count": 69,
      "outputs": []
    },
    {
      "cell_type": "code",
      "source": [
        "# 7. How do tuples ensure data integrity in Python\n",
        "\n",
        "# Tuples ensure data integrity because they cannot be changed (they are immutable).\n",
        "\n",
        "# ex-\n",
        "my_tuple = (\"Anju\", 25, \"Sid\")\n",
        "my_tuple[1] = 26 # Error – We cannot change the age"
      ],
      "metadata": {
        "colab": {
          "base_uri": "https://localhost:8080/",
          "height": 176
        },
        "id": "ZvPAxfkXdNRK",
        "outputId": "d47fdd7a-5609-4443-b807-04ed6eeb34c6"
      },
      "execution_count": 70,
      "outputs": [
        {
          "output_type": "error",
          "ename": "TypeError",
          "evalue": "'tuple' object does not support item assignment",
          "traceback": [
            "\u001b[0;31m---------------------------------------------------------------------------\u001b[0m",
            "\u001b[0;31mTypeError\u001b[0m                                 Traceback (most recent call last)",
            "\u001b[0;32m/tmp/ipython-input-70-1078829563.py\u001b[0m in \u001b[0;36m<cell line: 0>\u001b[0;34m()\u001b[0m\n\u001b[1;32m      5\u001b[0m \u001b[0;31m# ex-\u001b[0m\u001b[0;34m\u001b[0m\u001b[0;34m\u001b[0m\u001b[0m\n\u001b[1;32m      6\u001b[0m \u001b[0mmy_tuple\u001b[0m \u001b[0;34m=\u001b[0m \u001b[0;34m(\u001b[0m\u001b[0;34m\"Anju\"\u001b[0m\u001b[0;34m,\u001b[0m \u001b[0;36m25\u001b[0m\u001b[0;34m,\u001b[0m \u001b[0;34m\"Sid\"\u001b[0m\u001b[0;34m)\u001b[0m\u001b[0;34m\u001b[0m\u001b[0;34m\u001b[0m\u001b[0m\n\u001b[0;32m----> 7\u001b[0;31m \u001b[0mmy_tuple\u001b[0m\u001b[0;34m[\u001b[0m\u001b[0;36m1\u001b[0m\u001b[0;34m]\u001b[0m \u001b[0;34m=\u001b[0m \u001b[0;36m26\u001b[0m \u001b[0;31m# Error – We cannot change the age\u001b[0m\u001b[0;34m\u001b[0m\u001b[0;34m\u001b[0m\u001b[0m\n\u001b[0m",
            "\u001b[0;31mTypeError\u001b[0m: 'tuple' object does not support item assignment"
          ]
        }
      ]
    },
    {
      "cell_type": "code",
      "source": [
        "# 8. What is a hash table, and how does it relate to dictionaries in Python\n",
        "\n",
        "# A hash table is a data structure that stores data using:\n",
        "# Key – Value pairs\n",
        "# It uses a hash function to find the location of the data quickly.\n",
        "\n",
        "# A dictionary is built using a hash table internally."
      ],
      "metadata": {
        "id": "7fZCicrBeMDS"
      },
      "execution_count": null,
      "outputs": []
    },
    {
      "cell_type": "code",
      "source": [
        "# 9. Can lists contain different data types in Python\n",
        "\n",
        "# A list can store multiple types of data — like numbers, strings, booleans, even other lists.\n",
        "# ex-\n",
        "my_list = [10, \"hello\", \"Saxena\", 3.14, True]"
      ],
      "metadata": {
        "id": "fWRzHod4eOn_"
      },
      "execution_count": null,
      "outputs": []
    },
    {
      "cell_type": "code",
      "source": [
        "# 10. Explain why strings are immutable in Python\n",
        "\n",
        "# Strings are immutable\n",
        "# Immutable means: We cannot change the string after it is created\n",
        "name = \"Anjali\"  # This is a string\n",
        "\n",
        "# Let's try to change the first letter of the string\n",
        "# name[0] = \"M\"  # This gives an error — strings can't be changed\n",
        "\n",
        "# Why? Because strings in Python are not changeable\n",
        "\n",
        "# If We want to change something in the string,\n",
        "# We need to create a new string\n",
        "new_name = \"M\" + name[1:]  # This creates a new string: \"M\" + \"njali\" = \"Manjali\"\n",
        "print(new_name)  # Output: Manjali\n",
        "\n",
        "# Why are strings made immutable in Python?\n",
        "\n",
        "# 1. Safety: The string will not change by mistake — it's protected\n",
        "# 2. Dictionary keys: Strings can be used as keys in dictionaries\n",
        "#    and keys must not change\n",
        "info = {\"name\": \"Anjali\"}  # Here, \"name\" is a string used as a key\n",
        "\n",
        "# 3. Speed: Immutable strings are faster and use less memory\n",
        "\n",
        "# Strings are immutable to keep Wer code safe, fast, and clean\n",
        "\n"
      ],
      "metadata": {
        "id": "Eoq4rxpTeTOU"
      },
      "execution_count": null,
      "outputs": []
    },
    {
      "cell_type": "code",
      "source": [
        "# 11. What advantages do dictionaries offer over lists for certain tasks\n",
        "\n",
        "# Use dictionaries when We want to work with named data (like records, profiles, etc.)\n",
        "# Use lists when We just need to store items in order (like numbers, names, etc.)\n",
        "\n",
        "# Fast lookup using keys\n",
        "student_dict = {\"name\": \"Anjali\", \"age\": 22}\n",
        "print(student_dict[\"age\"])  # Very fast and clear: age = 22\n",
        "\n",
        "# In a list, we use index numbers (not easy to understand)\n",
        "student_list = [\"Anjali\", 22]\n",
        "print(student_list[1])  # 22 – but we don't know what it means (age? marks?)\n",
        "\n",
        "# More meaningful and readable\n",
        "# Dictionary uses key:value pairs — easy to know what the data means\n",
        "person = {\"name\": \"Anjali\", \"city\": \"Delhi\", \"course\": \"Python\"}\n",
        "\n",
        "# List is less readable\n",
        "info = [\"Anjali\", \"Delhi\", \"Python\"]\n",
        "\n",
        "# Flexible structure — can store mixed and nested data\n",
        "student = {\n",
        "    \"name\": \"Anjali\",\n",
        "    \"marks\": [90, 85, 92],             # list inside dictionary\n",
        "    \"details\": {\"city\": \"Delhi\"}       # dictionary inside dictionary\n",
        "}\n",
        "\n",
        "# Keys are unique — avoids confusion\n",
        "# In a list, values can repeat and confuse\n",
        "my_list = [1, 1, 1]\n",
        "\n",
        "# In a dictionary, keys must be unique\n",
        "my_dict = {\"a\": 1, \"b\": 2}  # no duplicate keys allowed"
      ],
      "metadata": {
        "id": "iiOLKDsNeWNH"
      },
      "execution_count": null,
      "outputs": []
    },
    {
      "cell_type": "code",
      "source": [
        "# 12. Describe a scenario where using a tuple would be preferable over a list\n",
        "\n",
        "# Use tuple when data is constant, safe, and unchangeable\n",
        "# Use list when We want to add, remove, or change data\n",
        "\n",
        "# Scenario: Use tuple when the data should NOT change\n",
        "\n",
        "# Example: Storing GPS coordinates (latitude, longitude)\n",
        "# These values are fixed — they should not be changed accidentally\n",
        "location = (28.6139, 77.2090)  # Tuple is used because it is immutable (unchangeable)\n",
        "\n",
        "# Try changing a value in tuple\n",
        "# location[0] = 30.0000  # This will give an error — tuple doesn't allow changes\n",
        "\n",
        "# If we used a list instead\n",
        "location_list = [28.6139, 77.2090]\n",
        "location_list[0] = 30.0000  # List allows change — but this is not safe for fixed data\n",
        "\n",
        "# So, tuple is better when:\n",
        "# - We want to protect the data\n",
        "# - Data should not be updated after storing\n",
        "# - Example: coordinates, days of week, color codes\n",
        "\n",
        "# More examples where tuple is better:\n",
        "days_of_week = (\"Monday\", \"Tuesday\", \"Wednesday\", \"Thursday\", \"Friday\", \"Saturday\", \"Sunday\")\n",
        "color = (255, 255, 0)  # RGB color value\n",
        "settings = (\"dark_mode\", True)  # fixed settings"
      ],
      "metadata": {
        "id": "f7OLkvw7eZk3"
      },
      "execution_count": null,
      "outputs": []
    },
    {
      "cell_type": "code",
      "source": [
        "# 13. How do sets handle duplicate values in Python\n",
        "\n",
        "# Sets do NOT allow duplicates\n",
        "# Any repeated value is automatically removed\n",
        "# Sets are great when We want only unique data\n",
        "\n",
        "# , sets automatically remove duplicate values\n",
        "\n",
        "# create a list with duplicate values\n",
        "my_list = [1, 2, 2, 3, 4, 4, 4, 5]\n",
        "print(\"List with duplicates:\", my_list)\n",
        "# Output: [1, 2, 2, 3, 4, 4, 4, 5]\n",
        "\n",
        "# Now convert the list into a set\n",
        "my_set = set(my_list)\n",
        "print(\"Set without duplicates:\", my_set)\n",
        "# Output: {1, 2, 3, 4, 5} — duplicates are removed\n",
        "\n",
        "# How does it work?\n",
        "# When We add elements to a set, Python checks:\n",
        "# - If the value already exists, it will NOT add it again\n",
        "# - This makes all elements in a set unique\n",
        "\n",
        "# We can even create a set directly with repeated values\n",
        "my_set2 = {10, 20, 20, 30, 10}\n",
        "print(\"Unique set:\", my_set2)\n",
        "# Output: {10, 20, 30}\n"
      ],
      "metadata": {
        "id": "SctFQl_zecB2"
      },
      "execution_count": null,
      "outputs": []
    },
    {
      "cell_type": "code",
      "source": [
        "# 14. How does the “in” keyword work differently for lists and dictionaries\n",
        "\n",
        "# \"in\" with list → checks for value\n",
        "# \"in\" with dictionary → checks for key\n",
        "\n",
        "# ex-list\n",
        "my_list = [10, 20, 30, 40]\n",
        "\n",
        "print(20 in my_list)  # True – because 20 is in the list\n",
        "print(50 in my_list)  # False – 50 is not in the list\n",
        "\n",
        "# ex-dict\n",
        "my_dict = {\"name\": \"Anjali\", \"age\": 22}\n",
        "\n",
        "print(\"name\" in my_dict)   # True – 'name' is a key\n",
        "print(\"Anjali\" in my_dict) # False – 'Anjali' is a value, not a key\n",
        "print(22 in my_dict)       # False – same reason"
      ],
      "metadata": {
        "id": "zg5asmSRefQB"
      },
      "execution_count": null,
      "outputs": []
    },
    {
      "cell_type": "code",
      "source": [
        "# 15. Can We modify the elements of a tuple? Explain why or why not\n",
        "\n",
        "# We CANNOT modify tuple elements\n",
        "\n",
        "my_tuple = (10, 20, 30)\n",
        "\n",
        "# Let's try to change the first element\n",
        "# my_tuple[0] = 100  # This will give an error: 'tuple' object does not support item assignment\n",
        "\n",
        "# Why?\n",
        "# Because tuples are designed to PROTECT the data\n",
        "# Once a tuple is made, its contents are locked — not changeable\n",
        "\n",
        "# This is useful when:\n",
        "# We want to make sure data stays safe and unchanged\n",
        "# Example: coordinates, settings, days of the week, etc."
      ],
      "metadata": {
        "id": "fJAMx_ZteiVC"
      },
      "execution_count": null,
      "outputs": []
    },
    {
      "cell_type": "code",
      "source": [
        "# 16. What is a nested dictionary, and give an example of its use case\n",
        "\n",
        "# A nested dictionary has one dictionary inside another\n",
        "# Useful to organize complex and grouped data\n",
        "\n",
        "student = {\n",
        "    \"name\": \"Anjali\",\n",
        "    \"age\": 22,\n",
        "    \"marks\": {\n",
        "        \"math\": 90,\n",
        "        \"science\": 85\n",
        "    }\n",
        "}\n",
        "\n",
        "# Here:\n",
        "# - \"name\" and \"age\" are normal key-value pairs\n",
        "# - \"marks\" is a key whose value is another dictionary\n",
        "\n",
        "# Accessing values from nested dictionary:\n",
        "print(student[\"marks\"][\"math\"])    # Output: 90\n",
        "print(student[\"marks\"][\"science\"]) # Output: 85\n",
        "\n",
        "# -----------------------\n",
        "# Use case of nested dictionary:\n",
        "\n",
        "# Nested dictionaries are useful when We want to store:\n",
        "# - Complex data\n",
        "# - Grouped or related information\n",
        "\n",
        "# Real-life example:\n",
        "# Storing details of multiple students\n",
        "\n",
        "students = {\n",
        "    \"101\": {\n",
        "        \"name\": \"Anjali\",\n",
        "        \"age\": 22\n",
        "    },\n",
        "    \"102\": {\n",
        "        \"name\": \"Rahul\",\n",
        "        \"age\": 23\n",
        "    }\n",
        "}\n",
        "\n",
        "# Accessing Rahul's age\n",
        "print(students[\"102\"][\"age\"])  # Output: 23"
      ],
      "metadata": {
        "id": "eUG3O3CoekxT"
      },
      "execution_count": null,
      "outputs": []
    },
    {
      "cell_type": "code",
      "source": [
        "# 17. Describe the time complexity of accessing elements in a dictionary\n",
        "\n",
        "# Accessing a value by key in a dictionary → O(1) time (very fast)\n",
        "# Reason: Uses hashing\n",
        "\n",
        "# Time complexity means: How much time an operation takes as data grows\n",
        "# Dictionaries are very fast because they use a technique called hashing\n",
        "\n",
        "# Accessing an element in a dictionary using a key has:\n",
        "# Time complexity = O(1) → constant time\n",
        "\n",
        "# That means: No matter how big the dictionary is,\n",
        "# We can get a value using its key in the same (fast) time\n",
        "\n",
        "# Example:\n",
        "student = {\n",
        "    \"name\": \"Anjali\",\n",
        "    \"age\": 22,\n",
        "    \"course\": \"Python\"\n",
        "}\n",
        "\n",
        "# Accessing a value:\n",
        "print(student[\"age\"])  # Time complexity = O(1) → very fast\n",
        "\n",
        "# Even if dictionary has 1,000 or 1,000,000 items,\n",
        "# getting value by key takes almost the same amount of time\n",
        "\n",
        "# But if two keys have the same hash (called collision),\n",
        "# Python handles it smartly, so speed may drop slightly in rare cases"
      ],
      "metadata": {
        "id": "Ds00vWx2en1J"
      },
      "execution_count": null,
      "outputs": []
    },
    {
      "cell_type": "code",
      "source": [
        "# 18. In what situations are lists preferred over dictionaries\n",
        "\n",
        "# Use LIST when:\n",
        "# - We care about the order of items\n",
        "# - We only need values (no key names)\n",
        "# - We want to store duplicate values\n",
        "# - We are looping by index/position\n",
        "# - We want something simple and memory-efficient\n",
        "\n",
        "# Lists are preferred over dictionaries in these situations:\n",
        "\n",
        "# 1. When order matters\n",
        "# Lists keep the order of items — first item, second item, etc.\n",
        "fruits = [\"apple\", \"banana\", \"cherry\"]\n",
        "print(fruits[0])  # Output: apple — position matters\n",
        "\n",
        "# Dictionaries before Python 3.7 didn’t keep order (now they do, but lists are still better for simple sequences)\n",
        "\n",
        "# 2. When We just need values (no need for keys)\n",
        "# If We don’t need to label Wer data with names, a list is simpler\n",
        "marks = [80, 90, 70]  # Just values, no need for keys like \"math\": 80\n",
        "\n",
        "# 3. When We want to loop over items by position\n",
        "for i in range(len(fruits)):\n",
        "    print(f\"Item {i}: {fruits[i]}\")\n",
        "\n",
        "# 4. When memory is important for large datasets\n",
        "# Lists use less memory compared to dictionaries because there are no keys\n",
        "\n",
        "# 5. When We need to store duplicate values\n",
        "numbers = [1, 2, 2, 3, 4, 4]  # Lists allow duplicates\n",
        "# But dictionary keys must be unique"
      ],
      "metadata": {
        "id": "BnvKhe0IeqtT"
      },
      "execution_count": null,
      "outputs": []
    },
    {
      "cell_type": "code",
      "source": [
        "# 19. Why are dictionaries considered unordered, and how does that affect data retrieval\n",
        "\n",
        "# - Dictionaries are unordered (in older versions) → no fixed position\n",
        "# - We must use keys to retrieve data\n",
        "# - We cannot use positions like in a list\n",
        "\n",
        "# Example (older behavior):\n",
        "my_dict = {\"name\": \"Anju\", \"age\": 25, \"course\": \"Python\"}\n",
        "for key in my_dict:\n",
        "    print(key, \":\", my_dict[key])\n",
        "\n",
        "# How does that affect data retrieval?\n",
        "\n",
        "# CANNOT rely on the \"position\" of items in a dictionary\n",
        "# MUST use the key to get the value\n",
        "print(my_dict[\"age\"])  # Works perfectly (using key)\n",
        "# print(my_dict[1])     # Error – cannot access by position/index"
      ],
      "metadata": {
        "id": "hdgSQaSPes_I"
      },
      "execution_count": null,
      "outputs": []
    },
    {
      "cell_type": "code",
      "source": [
        "# 20. Explain the difference between a list and a dictionary in terms of data retrieval.\n",
        "\n",
        "# Use list when We care about order\n",
        "# Use dictionary when each value has a meaning (label)\n",
        "\n",
        "# List:\n",
        "# Get data by index (position)\n",
        "# Example: list[0]\n",
        "# Good for ordered items\n",
        "\n",
        "#ex-\n",
        "fruits = [\"apple\", \"banana\", \"cherry\"]\n",
        "\n",
        "print(fruits[0])  # Output: apple – getting value by index 0\n",
        "print(fruits[2])  # Output: cherry – index 2\n",
        "# Lists are like ordered boxes – each item has a number (0, 1, 2...)\n",
        "\n",
        "# Dictionary:\n",
        "# Get data by key (label/name)\n",
        "# Example: dict[\"name\"]\n",
        "# Good for named, structured data\n",
        "\n",
        "#ex-\n",
        "student = {\"name\": \"Anjali\", \"age\": 22, \"course\": \"Python\"}\n",
        "\n",
        "print(student[\"name\"])  # Output: Anjali – getting value by key\n",
        "print(student[\"age\"])   # Output: 22 – key-based access\n",
        "# Dictionaries are like labeled boxes – each item has a name, not a number"
      ],
      "metadata": {
        "id": "Nrlvnug5evkH"
      },
      "execution_count": null,
      "outputs": []
    },
    {
      "cell_type": "markdown",
      "source": [
        "# **Practical** Questions"
      ],
      "metadata": {
        "id": "-Tgz2Ga11YBX"
      }
    },
    {
      "cell_type": "code",
      "source": [
        "# 1. Write a code to create a string with your name and print it\n",
        "\n",
        "my_name = \"Anjani Solanki\"\n",
        "print(my_name)"
      ],
      "metadata": {
        "id": "fzgNCGWK1fHQ"
      },
      "execution_count": null,
      "outputs": []
    },
    {
      "cell_type": "code",
      "source": [
        "# 2. Write a code to find the length of the string \"Hello World\"\n",
        "\n",
        "a = \"Hello World\"\n",
        "print(len(a))\n"
      ],
      "metadata": {
        "id": "eq1kBk2_10Km"
      },
      "execution_count": null,
      "outputs": []
    },
    {
      "cell_type": "code",
      "source": [
        "# 3. Write a code to slice the first 3 characters from the string \"Python Programming\"\n",
        "\n",
        "a = \"Python Programming\"\n",
        "print(a[:3])"
      ],
      "metadata": {
        "id": "2RsZ4DOV16fH"
      },
      "execution_count": null,
      "outputs": []
    },
    {
      "cell_type": "code",
      "source": [
        "# 4. Write a code to convert the string \"hello\" to uppercase\n",
        "\n",
        "Anjani = \"hello\"\n",
        "print(Anjani.upper())"
      ],
      "metadata": {
        "id": "oS_99QUs2QIu"
      },
      "execution_count": null,
      "outputs": []
    },
    {
      "cell_type": "code",
      "source": [
        "# 5. Write a code to replace the word \"apple\" with \"orange\" in the string \"I like apple\"\n",
        "\n",
        "my_str = \"I like apple\"\n",
        "print( my_str.replace(\"apple\", \"orange\"))"
      ],
      "metadata": {
        "id": "JlpY1kf42U5E"
      },
      "execution_count": null,
      "outputs": []
    },
    {
      "cell_type": "code",
      "source": [
        "# 6.  Write a code to create a list with numbers 1 to 5 and print it\n",
        "\n",
        "numbers_list = [1,2,3,4,5]\n",
        "print(numbers_list)"
      ],
      "metadata": {
        "id": "KxP_97WJ2ZW4"
      },
      "execution_count": null,
      "outputs": []
    },
    {
      "cell_type": "code",
      "source": [
        "# 7.  Write a code to append the number 10 to the list [1, 2, 3, 4]\n",
        "numbers_list = [1,2,3,4]\n",
        "numbers_list.append(10)\n",
        "print(numbers_list)"
      ],
      "metadata": {
        "id": "caimyXLb2dI0"
      },
      "execution_count": null,
      "outputs": []
    },
    {
      "cell_type": "code",
      "source": [
        "# 8. Write a code to remove the number 3 from the list [1, 2, 3, 4, 5]\n",
        "numbers_list = [1, 2, 3, 4, 5]\n",
        "numbers_list.remove(3)\n",
        "print(numbers_list)"
      ],
      "metadata": {
        "id": "h09k3k6q2g3Z"
      },
      "execution_count": null,
      "outputs": []
    },
    {
      "cell_type": "code",
      "source": [
        "# 9.  Write a code to access the second element in the list ['a', 'b', 'c', 'd']\n",
        "\n",
        "letter_list = ['a', 'b', 'c', 'd']\n",
        "letter_list[1]"
      ],
      "metadata": {
        "id": "Ig3Fswi82m6Q"
      },
      "execution_count": null,
      "outputs": []
    },
    {
      "cell_type": "code",
      "source": [
        "# 10. Write a code to reverse the list [10, 20, 30, 40, 50]\n",
        "\n",
        "numbers_list = [10, 20, 30, 40, 50]\n",
        "numbers_list.reverse()\n",
        "print(numbers_list)"
      ],
      "metadata": {
        "id": "Oq_STdCQ2roK"
      },
      "execution_count": null,
      "outputs": []
    },
    {
      "cell_type": "code",
      "source": [
        "# 11. Write a code to create a tuple with the elements 100, 200, 300 and print it.\n",
        "\n",
        "my_tuple = (100, 200, 300)\n",
        "print(my_tuple)"
      ],
      "metadata": {
        "id": "Qt4W0WNu9nvZ"
      },
      "execution_count": null,
      "outputs": []
    },
    {
      "cell_type": "code",
      "source": [
        "# 12. Write a code to access the second-to-last element of the tuple ('red', 'green', 'blue', 'yellow').\n",
        "my_tuple = ('red', 'green', 'blue', 'yellow')\n",
        "my_tuple[-2]"
      ],
      "metadata": {
        "id": "GyaQHzRn9w-w"
      },
      "execution_count": null,
      "outputs": []
    },
    {
      "cell_type": "code",
      "source": [
        "# 13. Write a code to find the minimum number in the tuple (10, 20, 5, 15).\n",
        "\n",
        "my_tuple = (10, 20, 5, 15)\n",
        "print(min(my_tuple))"
      ],
      "metadata": {
        "id": "fMaK5tBX91pM"
      },
      "execution_count": null,
      "outputs": []
    },
    {
      "cell_type": "code",
      "source": [
        "# 14. Write a code to find the index of the element \"cat\" in the tuple ('dog', 'cat', 'rabbit').\n",
        "\n",
        "my_tuple = ('dog', 'cat', 'rabbit')\n",
        "print(my_tuple.index('cat'))"
      ],
      "metadata": {
        "id": "p8zkTqiP97Lt"
      },
      "execution_count": null,
      "outputs": []
    },
    {
      "cell_type": "code",
      "source": [
        "# 15. Write a code to create a tuple containing three different fruits and check if \"kiwi\" is in it.\n",
        "\n",
        "fruits_tuple = (\"Mango\", \"Water melon\", \"Musk melon\")\n",
        "print(\"kiwi\" in fruits_tuple)"
      ],
      "metadata": {
        "id": "RT36pOQz9_e5"
      },
      "execution_count": null,
      "outputs": []
    },
    {
      "cell_type": "code",
      "source": [
        "# 16. Write a code to create a set with the elements 'a', 'b', 'c' and print it.\n",
        "\n",
        "my_set = {'a', 'b', 'c'}\n",
        "print(my_set)"
      ],
      "metadata": {
        "id": "EyZZXdao-Frq"
      },
      "execution_count": null,
      "outputs": []
    },
    {
      "cell_type": "code",
      "source": [
        "# 17. Write a code to clear all elements from the set {1, 2, 3, 4, 5}.\n",
        "\n",
        "my_set = {1, 2, 3, 4, 5}\n",
        "my_set.clear()\n",
        "print(my_set)"
      ],
      "metadata": {
        "id": "3foxemJD-Lrf"
      },
      "execution_count": null,
      "outputs": []
    },
    {
      "cell_type": "code",
      "source": [
        "# 18. Write a code to remove the element 4 from the set {1, 2, 3, 4}.\n",
        "\n",
        "my_set = {1, 2, 3, 4}\n",
        "my_set.remove(4)\n",
        "print(my_set)"
      ],
      "metadata": {
        "id": "UXrlpCvf-OlF"
      },
      "execution_count": null,
      "outputs": []
    },
    {
      "cell_type": "code",
      "source": [
        "# 19. Write a code to find the union of two sets {1, 2, 3} and {3, 4, 5}.\n",
        "\n",
        "set1 = {1, 2, 3}\n",
        "set2 = {3, 4, 5}\n",
        "union_set = set1.union(set2)\n",
        "print(union_set)"
      ],
      "metadata": {
        "id": "rjvQtGKf-SDK"
      },
      "execution_count": null,
      "outputs": []
    },
    {
      "cell_type": "code",
      "source": [
        "# 20. Write a code to find the intersection of two sets {1, 2, 3} and {2, 3, 4}.\n",
        "\n",
        "set1 = {1, 2, 3}\n",
        "set2 = {2, 3, 4}\n",
        "intersection_set = set1.intersection(set2)\n",
        "print(intersection_set)"
      ],
      "metadata": {
        "id": "9AJ7ATK9-U96"
      },
      "execution_count": null,
      "outputs": []
    },
    {
      "cell_type": "code",
      "source": [
        "# 21. Write a code to create a dictionary with the keys \"name\", \"age\", and \"city\", and print it.\n",
        "\n",
        "my_dict = {\"name\" : \"Anjani\", \"age\" : 25, \"city\" : \"Dehradun\"}\n",
        "print(my_dict)"
      ],
      "metadata": {
        "id": "h8nDHPse-XVC"
      },
      "execution_count": null,
      "outputs": []
    },
    {
      "cell_type": "code",
      "source": [
        "# 22. Write a code to add a new key-value pair \"country\": \"USA\" to the dictionary {'name': 'John', 'age': 25}.\n",
        "\n",
        "my_dict = {'name': 'John', 'age': 25}\n",
        "my_dict[\"country\"] = \"USA\"\n",
        "print(my_dict)"
      ],
      "metadata": {
        "id": "xITcxQdz-Zvg"
      },
      "execution_count": null,
      "outputs": []
    },
    {
      "cell_type": "code",
      "source": [
        "# 23. Write a code to access the value associated with the key \"name\" in the dictionary {'name': 'Alice', 'age': 30}.\n",
        "\n",
        "my_dict = {'name': 'Alice', 'age': 30}\n",
        "print(my_dict[\"name\"])"
      ],
      "metadata": {
        "id": "2vwCMQuT-cfW"
      },
      "execution_count": null,
      "outputs": []
    },
    {
      "cell_type": "code",
      "source": [
        "# 24. Write a code to remove the key \"age\" from the dictionary {'name': 'Bob', 'age': 22, 'city': 'New York'}.\n",
        "\n",
        "my_dict = {'name': 'Bob', 'age': 22, 'city': 'New York'}\n",
        "del my_dict['age']\n",
        "print(my_dict)"
      ],
      "metadata": {
        "id": "50g7z4AU-e0i"
      },
      "execution_count": null,
      "outputs": []
    },
    {
      "cell_type": "code",
      "source": [
        "# 25. Write a code to check if the key \"city\" exists in the dictionary {'name': 'Alice', 'city': 'Paris'}.\n",
        "\n",
        "my_dict = {'name': 'Alice', 'city': 'Paris'}\n",
        "print(\"city\" in my_dict)"
      ],
      "metadata": {
        "colab": {
          "base_uri": "https://localhost:8080/"
        },
        "id": "4rOHHi4b-hou",
        "outputId": "1ab3be6b-4e8d-4fd1-ae96-93db53e4591e"
      },
      "execution_count": 71,
      "outputs": [
        {
          "output_type": "stream",
          "name": "stdout",
          "text": [
            "True\n"
          ]
        }
      ]
    },
    {
      "cell_type": "code",
      "source": [
        "# 26. Write a code to create a list, a tuple, and a dictionary, and print them all.\n",
        "\n",
        "my_list = [1, 3, 7, 12, 67, 43, 56]\n",
        "my_tuple = (2, 7, 43, \"Anjanji\", \"Solanki\")\n",
        "my_dict = {\"name\" : \"Anjani\", \"age\" : 25, \"city\" : \"Dehradun\"}\n",
        "\n",
        "print(my_list)\n",
        "print(my_tuple)\n",
        "print(my_dict)"
      ],
      "metadata": {
        "colab": {
          "base_uri": "https://localhost:8080/"
        },
        "id": "O_XQReMW-kM6",
        "outputId": "723094cc-1f3d-4c05-a1ae-07be1ec4e851"
      },
      "execution_count": 72,
      "outputs": [
        {
          "output_type": "stream",
          "name": "stdout",
          "text": [
            "[1, 3, 7, 12, 67, 43, 56]\n",
            "(2, 7, 43, 'Anjanji', 'Solanki')\n",
            "{'name': 'Anjani', 'age': 25, 'city': 'Dehradun'}\n"
          ]
        }
      ]
    },
    {
      "cell_type": "code",
      "source": [
        "# 27. Write a code to create a list of 5 random numbers between 1 and 100, sort it in ascending order, and print the result.(replaced)\n",
        "\n",
        "import random\n",
        "list = random.sample(range(1, 101), 5)\n",
        "list.sort()\n",
        "print(list)"
      ],
      "metadata": {
        "colab": {
          "base_uri": "https://localhost:8080/"
        },
        "id": "TlfvzTLc-m3o",
        "outputId": "adc5d78e-acef-4fb8-83e2-2afd4241c44b"
      },
      "execution_count": 73,
      "outputs": [
        {
          "output_type": "stream",
          "name": "stdout",
          "text": [
            "[59, 67, 70, 88, 98]\n"
          ]
        }
      ]
    },
    {
      "cell_type": "code",
      "source": [
        "# 28. Write a code to create a list with strings and print the element at the third index.\n",
        "\n",
        "list = [\"Anjani\", \"Solanki\", \"Dehradun\", \"Sid\"]\n",
        "print(list[3])"
      ],
      "metadata": {
        "colab": {
          "base_uri": "https://localhost:8080/"
        },
        "id": "yW32lHTl-qjU",
        "outputId": "25298681-05cc-4036-e13a-9bebe0dabe33"
      },
      "execution_count": 74,
      "outputs": [
        {
          "output_type": "stream",
          "name": "stdout",
          "text": [
            "Sid\n"
          ]
        }
      ]
    },
    {
      "cell_type": "code",
      "source": [
        "# 29. Write a code to combine two dictionaries into one and print the result.\n",
        "\n",
        "dict1 = {\"name\" : \"Anjani\", \"age\" : 25}\n",
        "dict2 = {\"city\" : \"Dehradun\", \"Class\" : 12}\n",
        "\n",
        "combined_dict = {**dict1, **dict2}\n",
        "print(combined_dict)"
      ],
      "metadata": {
        "colab": {
          "base_uri": "https://localhost:8080/"
        },
        "id": "qU-XxLnR-ulK",
        "outputId": "04ed1265-d10d-473b-8781-2129a66b7166"
      },
      "execution_count": 75,
      "outputs": [
        {
          "output_type": "stream",
          "name": "stdout",
          "text": [
            "{'name': 'Anjani', 'age': 25, 'city': 'Dehradun', 'Class': 12}\n"
          ]
        }
      ]
    },
    {
      "cell_type": "code",
      "source": [
        "# 30. Write a code to convert a list of strings into a set.\n",
        "\n",
        "my_list = [\"Anjani\", \"Anju\", \"Solanki\", \"Saxena\", \"Guava\", \"Litchi\", \"Pear\", \"Custard Apple\", \"Strawberry\", \"Anjani\", \"Apple\", \"Anjani\"]\n",
        "my_set = set(my_list)\n",
        "print(my_set)"
      ],
      "metadata": {
        "colab": {
          "base_uri": "https://localhost:8080/"
        },
        "id": "lt19VW67-xPQ",
        "outputId": "4db93dc5-b246-4617-ae54-1920f5fd9f68"
      },
      "execution_count": 76,
      "outputs": [
        {
          "output_type": "stream",
          "name": "stdout",
          "text": [
            "{'Custard Apple', 'Strawberry', 'Pear', 'Litchi', 'Anjani', 'Anju', 'Solanki', 'Saxena', 'Guava', 'Apple'}\n"
          ]
        }
      ]
    }
  ]
}